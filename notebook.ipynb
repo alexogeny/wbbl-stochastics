{
 "metadata": {
  "language_info": {
   "codemirror_mode": {
    "name": "ipython",
    "version": 3
   },
   "file_extension": ".py",
   "mimetype": "text/x-python",
   "name": "python",
   "nbconvert_exporter": "python",
   "pygments_lexer": "ipython3",
   "version": "3.8.2-final"
  },
  "orig_nbformat": 2,
  "kernelspec": {
   "name": "Python 3.8.2 64-bit ('venv')",
   "display_name": "Python 3.8.2 64-bit ('venv')",
   "metadata": {
    "interpreter": {
     "hash": "2b0da0126e8f5e0ce0abfb33d8f192f53677661274ca94dca05d89b027a6b933"
    }
   }
  }
 },
 "nbformat": 4,
 "nbformat_minor": 2,
 "cells": [
  {
   "cell_type": "code",
   "execution_count": 2,
   "metadata": {},
   "outputs": [],
   "source": [
    "__version__ = \"1.3.0\" # data version of csv files\n",
    "\n",
    "# library imports\n",
    "import pandas as pd\n",
    "from pathlib import Path\n",
    "from csv import reader\n"
   ]
  },
  {
   "cell_type": "code",
   "execution_count": 3,
   "metadata": {},
   "outputs": [],
   "source": [
    "headers = ['ball', 'innings', 'team', 'batsman', 'batsman_two', 'bowler', 'runs', 'extras', 'out', 'player_out']"
   ]
  },
  {
   "cell_type": "code",
   "execution_count": 4,
   "metadata": {},
   "outputs": [],
   "source": [
    "def iter_csvs():\n",
    "    return list(Path('./data/').rglob('*.csv'))\n",
    "\n",
    "local_csvs = iter_csvs()"
   ]
  },
  {
   "cell_type": "code",
   "execution_count": 12,
   "metadata": {
    "tags": []
   },
   "outputs": [],
   "source": [
    "def ingest_csv(csv_path_obj):\n",
    "    with open(str(csv_path_obj), 'r') as fh:\n",
    "        data = [l.split(',') for l in fh.read().split('\\n') if l]\n",
    "    info, balls = {}, []\n",
    "    for line in data:\n",
    "        if line[0] == 'version':\n",
    "            assert line[1] == __version__\n",
    "        elif line[0] == 'info':\n",
    "            if line[1] in info.keys():\n",
    "                info[f'{line[1]}_two'] = line[2]\n",
    "            else:\n",
    "                info[line[1]] = line[2]\n",
    "        elif line[0] == 'ball':\n",
    "            ball = dict(zip(headers, line[1:]))\n",
    "            balls.append(ball)\n",
    "    info['balls'] = balls\n",
    "    return info\n",
    "\n",
    "def ingest_csvs(csvs):\n",
    "    return [ingest_csv(csv) for csv in csvs]\n",
    "\n",
    "entire_data = ingest_csvs(local_csvs)"
   ]
  },
  {
   "cell_type": "code",
   "execution_count": 17,
   "metadata": {},
   "outputs": [],
   "source": [
    "score_data = {t: [] for t in set([m['team'] for m in entire_data])}"
   ]
  },
  {
   "cell_type": "code",
   "execution_count": 24,
   "metadata": {},
   "outputs": [],
   "source": [
    "for game in entire_data:\n",
    "    a, b = game['team'], game['team_two']\n",
    "    set_a = sum([int(x['runs']) for x in game['balls'] if x['team']==a])\n",
    "    set_b = sum([int(x['runs']) for x in game['balls'] if x['team']==b])\n",
    "    score_data[a].append(set_a)\n",
    "    score_data[b].append(set_b)"
   ]
  },
  {
   "cell_type": "code",
   "execution_count": 25,
   "metadata": {},
   "outputs": [
    {
     "output_type": "execute_result",
     "data": {
      "text/plain": "{'Melbourne Stars': [135,\n  157,\n  143,\n  149,\n  94,\n  156,\n  117,\n  77,\n  148,\n  96,\n  135,\n  126,\n  136,\n  91,\n  109,\n  136,\n  164,\n  115,\n  70,\n  87,\n  119,\n  122,\n  121,\n  105,\n  100,\n  92,\n  103,\n  95,\n  75,\n  94,\n  0,\n  91,\n  91,\n  129,\n  135,\n  155,\n  139,\n  116,\n  108,\n  111,\n  118,\n  139,\n  124,\n  92,\n  147,\n  136,\n  125,\n  114,\n  142,\n  88,\n  125,\n  164,\n  119,\n  89,\n  122],\n 'Hobart Hurricanes': [115,\n  109,\n  158,\n  152,\n  109,\n  131,\n  110,\n  130,\n  151,\n  141,\n  107,\n  131,\n  124,\n  145,\n  127,\n  70,\n  149,\n  122,\n  133,\n  102,\n  181,\n  136,\n  123,\n  134,\n  107,\n  111,\n  136,\n  119,\n  110,\n  103,\n  102,\n  114,\n  84,\n  132,\n  127,\n  120,\n  113,\n  87,\n  128,\n  145,\n  98,\n  117,\n  70,\n  64,\n  133,\n  128,\n  187,\n  129,\n  192],\n 'Adelaide Strikers': [139,\n  160,\n  144,\n  168,\n  136,\n  156,\n  132,\n  136,\n  88,\n  132,\n  127,\n  165,\n  130,\n  104,\n  157,\n  110,\n  104,\n  84,\n  96,\n  123,\n  106,\n  165,\n  143,\n  88,\n  84,\n  162,\n  131,\n  112,\n  130,\n  102,\n  116,\n  79,\n  133,\n  103,\n  148,\n  118,\n  129,\n  128,\n  134,\n  135,\n  134,\n  25,\n  126,\n  140,\n  82,\n  146,\n  119,\n  147,\n  103,\n  201,\n  109,\n  154,\n  105],\n 'Sydney Sixers': [148,\n  157,\n  119,\n  80,\n  99,\n  76,\n  131,\n  83,\n  70,\n  154,\n  142,\n  104,\n  91,\n  151,\n  94,\n  163,\n  160,\n  96,\n  94,\n  140,\n  136,\n  185,\n  153,\n  146,\n  104,\n  123,\n  105,\n  54,\n  111,\n  119,\n  127,\n  127,\n  141,\n  165,\n  141,\n  113,\n  115,\n  106,\n  158,\n  110,\n  163,\n  199,\n  125,\n  160,\n  133,\n  139,\n  86,\n  148,\n  231,\n  144,\n  132,\n  166,\n  103,\n  157,\n  116,\n  106],\n 'Perth Scorchers': [142,\n  115,\n  119,\n  140,\n  95,\n  88,\n  137,\n  103,\n  115,\n  140,\n  85,\n  107,\n  92,\n  105,\n  71,\n  179,\n  129,\n  127,\n  183,\n  128,\n  122,\n  162,\n  119,\n  109,\n  143,\n  69,\n  138,\n  109,\n  107,\n  92,\n  120,\n  117,\n  119,\n  75,\n  153,\n  100,\n  142,\n  144,\n  163,\n  157,\n  152,\n  109,\n  176,\n  116,\n  105,\n  104,\n  125,\n  125,\n  122,\n  83,\n  76,\n  112,\n  110,\n  128,\n  169,\n  114],\n 'Brisbane Heat': [123,\n  131,\n  148,\n  153,\n  85,\n  58,\n  152,\n  121,\n  131,\n  100,\n  167,\n  154,\n  151,\n  129,\n  88,\n  162,\n  125,\n  143,\n  125,\n  174,\n  142,\n  163,\n  84,\n  93,\n  116,\n  140,\n  114,\n  138,\n  118,\n  109,\n  98,\n  84,\n  151,\n  130,\n  124,\n  114,\n  162,\n  145,\n  124,\n  131,\n  132,\n  115,\n  109,\n  123,\n  121,\n  134,\n  161,\n  124,\n  128,\n  169,\n  113,\n  113,\n  149,\n  127],\n 'Sydney Thunder': [124,\n  134,\n  122,\n  113,\n  112,\n  137,\n  153,\n  93,\n  137,\n  118,\n  120,\n  109,\n  63,\n  112,\n  124,\n  112,\n  95,\n  157,\n  148,\n  159,\n  130,\n  114,\n  129,\n  91,\n  142,\n  133,\n  139,\n  107,\n  115,\n  92,\n  129,\n  74,\n  122,\n  130,\n  113,\n  141,\n  94,\n  126,\n  167,\n  138,\n  81,\n  128,\n  105,\n  185,\n  187,\n  162],\n 'Melbourne Renegades': [112,\n  111,\n  157,\n  133,\n  65,\n  131,\n  136,\n  92,\n  144,\n  124,\n  93,\n  134,\n  68,\n  144,\n  153,\n  128,\n  126,\n  127,\n  111,\n  100,\n  128,\n  177,\n  148,\n  97,\n  133,\n  124,\n  111,\n  135,\n  96,\n  114,\n  117,\n  123,\n  89,\n  144,\n  134,\n  147,\n  151,\n  139,\n  114,\n  123,\n  103,\n  124,\n  75,\n  127,\n  146,\n  185,\n  162,\n  106,\n  134,\n  101,\n  50]}"
     },
     "metadata": {},
     "execution_count": 25
    }
   ],
   "source": [
    "score_data"
   ]
  },
  {
   "cell_type": "code",
   "execution_count": null,
   "metadata": {},
   "outputs": [],
   "source": []
  }
 ]
}